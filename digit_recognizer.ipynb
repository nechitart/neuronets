{
  "nbformat": 4,
  "nbformat_minor": 0,
  "metadata": {
    "colab": {
      "provenance": []
    },
    "kernelspec": {
      "name": "python3",
      "display_name": "Python 3"
    },
    "accelerator": "GPU"
  },
  "cells": [
    {
      "cell_type": "markdown",
      "source": [
        "# Общее"
      ],
      "metadata": {
        "id": "l1ct4NamN-oM"
      }
    },
    {
      "cell_type": "markdown",
      "source": [
        "Данная модель обучалась на данных, взятых из датасета, который используется для соревнования на kaggle."
      ],
      "metadata": {
        "id": "g7Mbk3TpODR7"
      }
    },
    {
      "cell_type": "markdown",
      "source": [
        "# Подготовка к работе"
      ],
      "metadata": {
        "id": "XCkAuVtBN4e6"
      }
    },
    {
      "cell_type": "code",
      "metadata": {
        "id": "ODl1ipDSPPmY"
      },
      "source": [
        "from tensorflow.keras.models import Sequential\n",
        "from tensorflow.keras.layers import Flatten, Dropout, Dense, Conv2D, MaxPooling2D\n",
        "from tensorflow.keras.preprocessing import image\n",
        "from tensorflow.keras import utils\n",
        "from tensorflow.keras.callbacks import ModelCheckpoint\n",
        "import numpy as np\n",
        "import pandas as pd\n",
        "from google.colab import files\n",
        "import matplotlib.pyplot as plt\n",
        "%matplotlib inline"
      ],
      "execution_count": 9,
      "outputs": []
    },
    {
      "cell_type": "markdown",
      "source": [
        "В качестве датасета будут использоваться данные с соревнования kaggle, поэтому необходимо загрузить файл с oauth_token."
      ],
      "metadata": {
        "id": "WBb37h0eOoG1"
      }
    },
    {
      "cell_type": "code",
      "metadata": {
        "id": "IXXe16ouQvjQ",
        "colab": {
          "base_uri": "https://localhost:8080/",
          "height": 74
        },
        "outputId": "3ec9c6ed-0c1b-4fab-ee05-6b6c36177cfc"
      },
      "source": [
        "api_token = files.upload()"
      ],
      "execution_count": 10,
      "outputs": [
        {
          "output_type": "display_data",
          "data": {
            "text/plain": [
              "<IPython.core.display.HTML object>"
            ],
            "text/html": [
              "\n",
              "     <input type=\"file\" id=\"files-7d6aadbb-70c9-4d4c-88f9-b25c5448ee39\" name=\"files[]\" multiple disabled\n",
              "        style=\"border:none\" />\n",
              "     <output id=\"result-7d6aadbb-70c9-4d4c-88f9-b25c5448ee39\">\n",
              "      Upload widget is only available when the cell has been executed in the\n",
              "      current browser session. Please rerun this cell to enable.\n",
              "      </output>\n",
              "      <script>// Copyright 2017 Google LLC\n",
              "//\n",
              "// Licensed under the Apache License, Version 2.0 (the \"License\");\n",
              "// you may not use this file except in compliance with the License.\n",
              "// You may obtain a copy of the License at\n",
              "//\n",
              "//      http://www.apache.org/licenses/LICENSE-2.0\n",
              "//\n",
              "// Unless required by applicable law or agreed to in writing, software\n",
              "// distributed under the License is distributed on an \"AS IS\" BASIS,\n",
              "// WITHOUT WARRANTIES OR CONDITIONS OF ANY KIND, either express or implied.\n",
              "// See the License for the specific language governing permissions and\n",
              "// limitations under the License.\n",
              "\n",
              "/**\n",
              " * @fileoverview Helpers for google.colab Python module.\n",
              " */\n",
              "(function(scope) {\n",
              "function span(text, styleAttributes = {}) {\n",
              "  const element = document.createElement('span');\n",
              "  element.textContent = text;\n",
              "  for (const key of Object.keys(styleAttributes)) {\n",
              "    element.style[key] = styleAttributes[key];\n",
              "  }\n",
              "  return element;\n",
              "}\n",
              "\n",
              "// Max number of bytes which will be uploaded at a time.\n",
              "const MAX_PAYLOAD_SIZE = 100 * 1024;\n",
              "\n",
              "function _uploadFiles(inputId, outputId) {\n",
              "  const steps = uploadFilesStep(inputId, outputId);\n",
              "  const outputElement = document.getElementById(outputId);\n",
              "  // Cache steps on the outputElement to make it available for the next call\n",
              "  // to uploadFilesContinue from Python.\n",
              "  outputElement.steps = steps;\n",
              "\n",
              "  return _uploadFilesContinue(outputId);\n",
              "}\n",
              "\n",
              "// This is roughly an async generator (not supported in the browser yet),\n",
              "// where there are multiple asynchronous steps and the Python side is going\n",
              "// to poll for completion of each step.\n",
              "// This uses a Promise to block the python side on completion of each step,\n",
              "// then passes the result of the previous step as the input to the next step.\n",
              "function _uploadFilesContinue(outputId) {\n",
              "  const outputElement = document.getElementById(outputId);\n",
              "  const steps = outputElement.steps;\n",
              "\n",
              "  const next = steps.next(outputElement.lastPromiseValue);\n",
              "  return Promise.resolve(next.value.promise).then((value) => {\n",
              "    // Cache the last promise value to make it available to the next\n",
              "    // step of the generator.\n",
              "    outputElement.lastPromiseValue = value;\n",
              "    return next.value.response;\n",
              "  });\n",
              "}\n",
              "\n",
              "/**\n",
              " * Generator function which is called between each async step of the upload\n",
              " * process.\n",
              " * @param {string} inputId Element ID of the input file picker element.\n",
              " * @param {string} outputId Element ID of the output display.\n",
              " * @return {!Iterable<!Object>} Iterable of next steps.\n",
              " */\n",
              "function* uploadFilesStep(inputId, outputId) {\n",
              "  const inputElement = document.getElementById(inputId);\n",
              "  inputElement.disabled = false;\n",
              "\n",
              "  const outputElement = document.getElementById(outputId);\n",
              "  outputElement.innerHTML = '';\n",
              "\n",
              "  const pickedPromise = new Promise((resolve) => {\n",
              "    inputElement.addEventListener('change', (e) => {\n",
              "      resolve(e.target.files);\n",
              "    });\n",
              "  });\n",
              "\n",
              "  const cancel = document.createElement('button');\n",
              "  inputElement.parentElement.appendChild(cancel);\n",
              "  cancel.textContent = 'Cancel upload';\n",
              "  const cancelPromise = new Promise((resolve) => {\n",
              "    cancel.onclick = () => {\n",
              "      resolve(null);\n",
              "    };\n",
              "  });\n",
              "\n",
              "  // Wait for the user to pick the files.\n",
              "  const files = yield {\n",
              "    promise: Promise.race([pickedPromise, cancelPromise]),\n",
              "    response: {\n",
              "      action: 'starting',\n",
              "    }\n",
              "  };\n",
              "\n",
              "  cancel.remove();\n",
              "\n",
              "  // Disable the input element since further picks are not allowed.\n",
              "  inputElement.disabled = true;\n",
              "\n",
              "  if (!files) {\n",
              "    return {\n",
              "      response: {\n",
              "        action: 'complete',\n",
              "      }\n",
              "    };\n",
              "  }\n",
              "\n",
              "  for (const file of files) {\n",
              "    const li = document.createElement('li');\n",
              "    li.append(span(file.name, {fontWeight: 'bold'}));\n",
              "    li.append(span(\n",
              "        `(${file.type || 'n/a'}) - ${file.size} bytes, ` +\n",
              "        `last modified: ${\n",
              "            file.lastModifiedDate ? file.lastModifiedDate.toLocaleDateString() :\n",
              "                                    'n/a'} - `));\n",
              "    const percent = span('0% done');\n",
              "    li.appendChild(percent);\n",
              "\n",
              "    outputElement.appendChild(li);\n",
              "\n",
              "    const fileDataPromise = new Promise((resolve) => {\n",
              "      const reader = new FileReader();\n",
              "      reader.onload = (e) => {\n",
              "        resolve(e.target.result);\n",
              "      };\n",
              "      reader.readAsArrayBuffer(file);\n",
              "    });\n",
              "    // Wait for the data to be ready.\n",
              "    let fileData = yield {\n",
              "      promise: fileDataPromise,\n",
              "      response: {\n",
              "        action: 'continue',\n",
              "      }\n",
              "    };\n",
              "\n",
              "    // Use a chunked sending to avoid message size limits. See b/62115660.\n",
              "    let position = 0;\n",
              "    do {\n",
              "      const length = Math.min(fileData.byteLength - position, MAX_PAYLOAD_SIZE);\n",
              "      const chunk = new Uint8Array(fileData, position, length);\n",
              "      position += length;\n",
              "\n",
              "      const base64 = btoa(String.fromCharCode.apply(null, chunk));\n",
              "      yield {\n",
              "        response: {\n",
              "          action: 'append',\n",
              "          file: file.name,\n",
              "          data: base64,\n",
              "        },\n",
              "      };\n",
              "\n",
              "      let percentDone = fileData.byteLength === 0 ?\n",
              "          100 :\n",
              "          Math.round((position / fileData.byteLength) * 100);\n",
              "      percent.textContent = `${percentDone}% done`;\n",
              "\n",
              "    } while (position < fileData.byteLength);\n",
              "  }\n",
              "\n",
              "  // All done.\n",
              "  yield {\n",
              "    response: {\n",
              "      action: 'complete',\n",
              "    }\n",
              "  };\n",
              "}\n",
              "\n",
              "scope.google = scope.google || {};\n",
              "scope.google.colab = scope.google.colab || {};\n",
              "scope.google.colab._files = {\n",
              "  _uploadFiles,\n",
              "  _uploadFilesContinue,\n",
              "};\n",
              "})(self);\n",
              "</script> "
            ]
          },
          "metadata": {}
        },
        {
          "output_type": "stream",
          "name": "stdout",
          "text": [
            "Saving kaggle.json to kaggle.json\n"
          ]
        }
      ]
    },
    {
      "cell_type": "code",
      "metadata": {
        "id": "K4vkkfonQ1It",
        "colab": {
          "base_uri": "https://localhost:8080/"
        },
        "outputId": "e3e14759-14a3-48c8-c426-7c81bc197c86"
      },
      "source": [
        "!mkdir /root/.kaggle\n",
        "!mv kaggle.json /root/.kaggle"
      ],
      "execution_count": 11,
      "outputs": [
        {
          "output_type": "stream",
          "name": "stdout",
          "text": [
            "mkdir: cannot create directory ‘/root/.kaggle’: File exists\n"
          ]
        }
      ]
    },
    {
      "cell_type": "code",
      "metadata": {
        "id": "3WjYfrMbQ3x4",
        "colab": {
          "base_uri": "https://localhost:8080/"
        },
        "outputId": "ede938c3-873e-49e6-c2e5-a4dcfd9a1e60"
      },
      "source": [
        "!chmod 600 /root/.kaggle/kaggle.json\n",
        "!kaggle competitions download -c digit-recognizer"
      ],
      "execution_count": 12,
      "outputs": [
        {
          "output_type": "stream",
          "name": "stdout",
          "text": [
            "digit-recognizer.zip: Skipping, found more recently modified local copy (use --force to force download)\n"
          ]
        }
      ]
    },
    {
      "cell_type": "code",
      "metadata": {
        "id": "1vkcxDc9Q_ne",
        "colab": {
          "base_uri": "https://localhost:8080/"
        },
        "outputId": "0aca6988-3e22-41c8-fd38-42f3b2adf643"
      },
      "source": [
        "!unzip digit-recognizer.zip"
      ],
      "execution_count": 13,
      "outputs": [
        {
          "output_type": "stream",
          "name": "stdout",
          "text": [
            "Archive:  digit-recognizer.zip\n",
            "replace sample_submission.csv? [y]es, [n]o, [A]ll, [N]one, [r]ename: "
          ]
        }
      ]
    },
    {
      "cell_type": "markdown",
      "source": [
        "# Подготовка данных"
      ],
      "metadata": {
        "id": "bu6oh_PnOw2G"
      }
    },
    {
      "cell_type": "code",
      "metadata": {
        "id": "fKr2vULoRS4O"
      },
      "source": [
        "train = np.genfromtxt('train.csv', delimiter = ',')\n",
        "test1 = np.genfromtxt('test.csv', delimiter = ',')"
      ],
      "execution_count": 14,
      "outputs": []
    },
    {
      "cell_type": "markdown",
      "source": [],
      "metadata": {
        "id": "4i8rnLsHQKMa"
      }
    },
    {
      "cell_type": "code",
      "metadata": {
        "id": "gcTdbD5LR2F3"
      },
      "source": [
        "y_train = train[1:,0].reshape(42000, 1)\n",
        "x_train = train[1:,1:].reshape(42000, 28, 28, 1)\n",
        "x_test1 = test1[1:,0:].reshape(28000, 28, 28, 1)"
      ],
      "execution_count": 15,
      "outputs": []
    },
    {
      "cell_type": "markdown",
      "source": [
        "Посмотрим на данные из датасета"
      ],
      "metadata": {
        "id": "0-8AglspO_zn"
      }
    },
    {
      "cell_type": "code",
      "metadata": {
        "id": "IUUgGQ8UV8QF",
        "colab": {
          "base_uri": "https://localhost:8080/",
          "height": 509
        },
        "outputId": "a5e1c215-2db1-402d-afbf-a089204108fd"
      },
      "source": [
        "for i in range(9):\n",
        "    plt.subplot(3, 3, (i + 1))\n",
        "    plt.imshow(x_train[i][:,:,0], cmap=plt.get_cmap('gray'))\n",
        "    plt.title(y_train[i])"
      ],
      "execution_count": 16,
      "outputs": [
        {
          "output_type": "stream",
          "name": "stderr",
          "text": [
            "/usr/local/lib/python3.10/dist-packages/matplotlib/text.py:1279: FutureWarning: elementwise comparison failed; returning scalar instead, but in the future will perform elementwise comparison\n",
            "  if s != self._text:\n"
          ]
        },
        {
          "output_type": "display_data",
          "data": {
            "text/plain": [
              "<Figure size 640x480 with 9 Axes>"
            ],
            "image/png": "[encoded data removed]"
          },
          "metadata": {}
        }
      ]
    },
    {
      "cell_type": "markdown",
      "source": [
        "Подготовим данные для обучения"
      ],
      "metadata": {
        "id": "2gXv6Ow2Pdko"
      }
    },
    {
      "cell_type": "code",
      "metadata": {
        "id": "BM1T6aL6YD5U"
      },
      "source": [
        "x_train, x_test1 = x_train / 255., x_test1 / 255.\n",
        "y_train = utils.to_categorical(y_train, 10)"
      ],
      "execution_count": 17,
      "outputs": []
    },
    {
      "cell_type": "markdown",
      "source": [
        "Разделим на сет для обучения и тестовый"
      ],
      "metadata": {
        "id": "fdPyASoFPj_o"
      }
    },
    {
      "cell_type": "code",
      "metadata": {
        "id": "PBHwEqa3YT5M"
      },
      "source": [
        "val_test = int(x_train.shape[0] * 0.15)\n",
        "x_test = x_train[:val_test]\n",
        "x_train = x_train[val_test:]\n",
        "y_test = y_train[:val_test]\n",
        "y_train = y_train[val_test:]"
      ],
      "execution_count": 18,
      "outputs": []
    },
    {
      "cell_type": "markdown",
      "source": [
        "Сохраним лучшую модель в model.h5"
      ],
      "metadata": {
        "id": "Pe9IvFiSPr4I"
      }
    },
    {
      "cell_type": "code",
      "metadata": {
        "id": "PB-4Wl0VZvRo"
      },
      "source": [
        "model_path = 'model.h5'\n",
        "callback = ModelCheckpoint(\n",
        "    model_path,\n",
        "    monitor='val_accuracy',\n",
        "    save_best_only=True,\n",
        "    verbose=1\n",
        ")"
      ],
      "execution_count": 19,
      "outputs": []
    },
    {
      "cell_type": "markdown",
      "source": [
        "Модель будет состоять в основном из слоев двумерной свертки\n",
        "\n",
        "Также на выходе будет полносвязный слой с 10 нейронами, чтобы классифицировать цифры"
      ],
      "metadata": {
        "id": "jFD5F1O-RDfb"
      }
    },
    {
      "cell_type": "code",
      "metadata": {
        "id": "7qe9sTJabD_6"
      },
      "source": [
        "model = Sequential()\n",
        "model.add(Conv2D(32, (3, 3), activation='relu', input_shape=(28, 28, 1)))\n",
        "model.add(Conv2D(32, (3, 3), activation='relu'))\n",
        "model.add(MaxPooling2D((2, 2)))\n",
        "\n",
        "model.add(Conv2D(64, (3, 3), activation='relu'))\n",
        "model.add(Conv2D(64, (3, 3), activation='relu'))\n",
        "model.add(MaxPooling2D((2, 2)))\n",
        "\n",
        "model.add(Conv2D(128, (3, 3), activation='relu'))\n",
        "model.add(MaxPooling2D((2, 2)))\n",
        "\n",
        "model.add(Flatten())\n",
        "model.add(Dense(256, activation='relu'))\n",
        "model.add(Dropout(0.3))\n",
        "model.add(Dense(10, activation='softmax'))"
      ],
      "execution_count": 20,
      "outputs": []
    },
    {
      "cell_type": "code",
      "metadata": {
        "id": "OoXV_lRLcI-f"
      },
      "source": [
        "model.compile(\n",
        "    loss='categorical_crossentropy',\n",
        "    optimizer='adam',\n",
        "    metrics=['accuracy']\n",
        ")"
      ],
      "execution_count": 21,
      "outputs": []
    },
    {
      "cell_type": "markdown",
      "source": [
        "Сохраним вывод для дальнейшей визуализации данных"
      ],
      "metadata": {
        "id": "PUpNTRwzRXTT"
      }
    },
    {
      "cell_type": "code",
      "metadata": {
        "id": "fSvitIKzcfAx",
        "colab": {
          "base_uri": "https://localhost:8080/"
        },
        "outputId": "b8e78b63-5455-40af-e5b6-f02e950b67b5"
      },
      "source": [
        "history = model.fit(\n",
        "    x_train,\n",
        "    y_train,\n",
        "    epochs=50,\n",
        "    batch_size=200,\n",
        "    validation_split=0.2,\n",
        "    callbacks=[callback]\n",
        ")"
      ],
      "execution_count": 22,
      "outputs": [
        {
          "output_type": "stream",
          "name": "stdout",
          "text": [
            "Epoch 1/50\n",
            "143/143 [==============================] - ETA: 0s - loss: 0.4818 - accuracy: 0.8479\n",
            "Epoch 1: val_accuracy improved from -inf to 0.96877, saving model to model.h5\n",
            "143/143 [==============================] - 15s 18ms/step - loss: 0.4818 - accuracy: 0.8479 - val_loss: 0.1011 - val_accuracy: 0.9688\n",
            "Epoch 2/50\n",
            " 13/143 [=>............................] - ETA: 1s - loss: 0.1068 - accuracy: 0.9665"
          ]
        },
        {
          "output_type": "stream",
          "name": "stderr",
          "text": [
            "/usr/local/lib/python3.10/dist-packages/keras/src/engine/training.py:3079: UserWarning: You are saving your model as an HDF5 file via `model.save()`. This file format is considered legacy. We recommend using instead the native Keras format, e.g. `model.save('my_model.keras')`.\n",
            "  saving_api.save_model(\n"
          ]
        },
        {
          "output_type": "stream",
          "name": "stdout",
          "text": [
            "141/143 [============================>.] - ETA: 0s - loss: 0.0990 - accuracy: 0.9699\n",
            "Epoch 2: val_accuracy improved from 0.96877 to 0.97857, saving model to model.h5\n",
            "143/143 [==============================] - 2s 11ms/step - loss: 0.0986 - accuracy: 0.9701 - val_loss: 0.0636 - val_accuracy: 0.9786\n",
            "Epoch 3/50\n",
            "141/143 [============================>.] - ETA: 0s - loss: 0.0629 - accuracy: 0.9815\n",
            "Epoch 3: val_accuracy improved from 0.97857 to 0.98459, saving model to model.h5\n",
            "143/143 [==============================] - 2s 11ms/step - loss: 0.0632 - accuracy: 0.9816 - val_loss: 0.0544 - val_accuracy: 0.9846\n",
            "Epoch 4/50\n",
            "139/143 [============================>.] - ETA: 0s - loss: 0.0474 - accuracy: 0.9851\n",
            "Epoch 4: val_accuracy improved from 0.98459 to 0.98641, saving model to model.h5\n",
            "143/143 [==============================] - 2s 11ms/step - loss: 0.0486 - accuracy: 0.9847 - val_loss: 0.0510 - val_accuracy: 0.9864\n",
            "Epoch 5/50\n",
            "142/143 [============================>.] - ETA: 0s - loss: 0.0359 - accuracy: 0.9889\n",
            "Epoch 5: val_accuracy improved from 0.98641 to 0.98782, saving model to model.h5\n",
            "143/143 [==============================] - 2s 11ms/step - loss: 0.0358 - accuracy: 0.9889 - val_loss: 0.0446 - val_accuracy: 0.9878\n",
            "Epoch 6/50\n",
            "143/143 [==============================] - ETA: 0s - loss: 0.0286 - accuracy: 0.9910\n",
            "Epoch 6: val_accuracy improved from 0.98782 to 0.98852, saving model to model.h5\n",
            "143/143 [==============================] - 2s 11ms/step - loss: 0.0286 - accuracy: 0.9910 - val_loss: 0.0456 - val_accuracy: 0.9885\n",
            "Epoch 7/50\n",
            "142/143 [============================>.] - ETA: 0s - loss: 0.0237 - accuracy: 0.9923\n",
            "Epoch 7: val_accuracy improved from 0.98852 to 0.98880, saving model to model.h5\n",
            "143/143 [==============================] - 2s 11ms/step - loss: 0.0238 - accuracy: 0.9923 - val_loss: 0.0441 - val_accuracy: 0.9888\n",
            "Epoch 8/50\n",
            "140/143 [============================>.] - ETA: 0s - loss: 0.0201 - accuracy: 0.9934\n",
            "Epoch 8: val_accuracy improved from 0.98880 to 0.98922, saving model to model.h5\n",
            "143/143 [==============================] - 2s 13ms/step - loss: 0.0199 - accuracy: 0.9935 - val_loss: 0.0451 - val_accuracy: 0.9892\n",
            "Epoch 9/50\n",
            "138/143 [===========================>..] - ETA: 0s - loss: 0.0165 - accuracy: 0.9943\n",
            "Epoch 9: val_accuracy improved from 0.98922 to 0.98950, saving model to model.h5\n",
            "143/143 [==============================] - 2s 11ms/step - loss: 0.0164 - accuracy: 0.9944 - val_loss: 0.0394 - val_accuracy: 0.9895\n",
            "Epoch 10/50\n",
            "138/143 [===========================>..] - ETA: 0s - loss: 0.0168 - accuracy: 0.9946\n",
            "Epoch 10: val_accuracy did not improve from 0.98950\n",
            "143/143 [==============================] - 2s 11ms/step - loss: 0.0174 - accuracy: 0.9944 - val_loss: 0.0453 - val_accuracy: 0.9892\n",
            "Epoch 11/50\n",
            "142/143 [============================>.] - ETA: 0s - loss: 0.0129 - accuracy: 0.9952\n",
            "Epoch 11: val_accuracy did not improve from 0.98950\n",
            "143/143 [==============================] - 2s 11ms/step - loss: 0.0129 - accuracy: 0.9952 - val_loss: 0.0453 - val_accuracy: 0.9892\n",
            "Epoch 12/50\n",
            "142/143 [============================>.] - ETA: 0s - loss: 0.0101 - accuracy: 0.9965\n",
            "Epoch 12: val_accuracy improved from 0.98950 to 0.99076, saving model to model.h5\n",
            "143/143 [==============================] - 2s 11ms/step - loss: 0.0102 - accuracy: 0.9965 - val_loss: 0.0398 - val_accuracy: 0.9908\n",
            "Epoch 13/50\n",
            "143/143 [==============================] - ETA: 0s - loss: 0.0112 - accuracy: 0.9964\n",
            "Epoch 13: val_accuracy did not improve from 0.99076\n",
            "143/143 [==============================] - 2s 11ms/step - loss: 0.0112 - accuracy: 0.9964 - val_loss: 0.0534 - val_accuracy: 0.9896\n",
            "Epoch 14/50\n",
            "142/143 [============================>.] - ETA: 0s - loss: 0.0083 - accuracy: 0.9973\n",
            "Epoch 14: val_accuracy did not improve from 0.99076\n",
            "143/143 [==============================] - 2s 11ms/step - loss: 0.0084 - accuracy: 0.9973 - val_loss: 0.0411 - val_accuracy: 0.9908\n",
            "Epoch 15/50\n",
            "139/143 [============================>.] - ETA: 0s - loss: 0.0098 - accuracy: 0.9968\n",
            "Epoch 15: val_accuracy did not improve from 0.99076\n",
            "143/143 [==============================] - 2s 11ms/step - loss: 0.0097 - accuracy: 0.9969 - val_loss: 0.0483 - val_accuracy: 0.9894\n",
            "Epoch 16/50\n",
            "141/143 [============================>.] - ETA: 0s - loss: 0.0059 - accuracy: 0.9977\n",
            "Epoch 16: val_accuracy did not improve from 0.99076\n",
            "143/143 [==============================] - 2s 12ms/step - loss: 0.0059 - accuracy: 0.9977 - val_loss: 0.0465 - val_accuracy: 0.9901\n",
            "Epoch 17/50\n",
            "141/143 [============================>.] - ETA: 0s - loss: 0.0082 - accuracy: 0.9974\n",
            "Epoch 17: val_accuracy did not improve from 0.99076\n",
            "143/143 [==============================] - 2s 11ms/step - loss: 0.0081 - accuracy: 0.9974 - val_loss: 0.0504 - val_accuracy: 0.9898\n",
            "Epoch 18/50\n",
            "143/143 [==============================] - ETA: 0s - loss: 0.0069 - accuracy: 0.9980\n",
            "Epoch 18: val_accuracy improved from 0.99076 to 0.99118, saving model to model.h5\n",
            "143/143 [==============================] - 2s 11ms/step - loss: 0.0069 - accuracy: 0.9980 - val_loss: 0.0488 - val_accuracy: 0.9912\n",
            "Epoch 19/50\n",
            "140/143 [============================>.] - ETA: 0s - loss: 0.0075 - accuracy: 0.9974\n",
            "Epoch 19: val_accuracy did not improve from 0.99118\n",
            "143/143 [==============================] - 2s 11ms/step - loss: 0.0075 - accuracy: 0.9974 - val_loss: 0.0564 - val_accuracy: 0.9887\n",
            "Epoch 20/50\n",
            "142/143 [============================>.] - ETA: 0s - loss: 0.0088 - accuracy: 0.9968\n",
            "Epoch 20: val_accuracy did not improve from 0.99118\n",
            "143/143 [==============================] - 2s 11ms/step - loss: 0.0089 - accuracy: 0.9968 - val_loss: 0.0525 - val_accuracy: 0.9885\n",
            "Epoch 21/50\n",
            "140/143 [============================>.] - ETA: 0s - loss: 0.0049 - accuracy: 0.9984\n",
            "Epoch 21: val_accuracy did not improve from 0.99118\n",
            "143/143 [==============================] - 2s 11ms/step - loss: 0.0049 - accuracy: 0.9984 - val_loss: 0.0514 - val_accuracy: 0.9902\n",
            "Epoch 22/50\n",
            "139/143 [============================>.] - ETA: 0s - loss: 0.0051 - accuracy: 0.9986\n",
            "Epoch 22: val_accuracy did not improve from 0.99118\n",
            "143/143 [==============================] - 2s 11ms/step - loss: 0.0051 - accuracy: 0.9987 - val_loss: 0.0520 - val_accuracy: 0.9908\n",
            "Epoch 23/50\n",
            "140/143 [============================>.] - ETA: 0s - loss: 0.0056 - accuracy: 0.9983\n",
            "Epoch 23: val_accuracy did not improve from 0.99118\n",
            "143/143 [==============================] - 2s 13ms/step - loss: 0.0060 - accuracy: 0.9981 - val_loss: 0.0585 - val_accuracy: 0.9877\n",
            "Epoch 24/50\n",
            "142/143 [============================>.] - ETA: 0s - loss: 0.0078 - accuracy: 0.9975\n",
            "Epoch 24: val_accuracy improved from 0.99118 to 0.99174, saving model to model.h5\n",
            "143/143 [==============================] - 2s 12ms/step - loss: 0.0077 - accuracy: 0.9975 - val_loss: 0.0473 - val_accuracy: 0.9917\n",
            "Epoch 25/50\n",
            "142/143 [============================>.] - ETA: 0s - loss: 0.0051 - accuracy: 0.9984\n",
            "Epoch 25: val_accuracy did not improve from 0.99174\n",
            "143/143 [==============================] - 2s 11ms/step - loss: 0.0052 - accuracy: 0.9984 - val_loss: 0.0573 - val_accuracy: 0.9908\n",
            "Epoch 26/50\n",
            "141/143 [============================>.] - ETA: 0s - loss: 0.0063 - accuracy: 0.9978\n",
            "Epoch 26: val_accuracy did not improve from 0.99174\n",
            "143/143 [==============================] - 2s 11ms/step - loss: 0.0062 - accuracy: 0.9978 - val_loss: 0.0609 - val_accuracy: 0.9891\n",
            "Epoch 27/50\n",
            "138/143 [===========================>..] - ETA: 0s - loss: 0.0050 - accuracy: 0.9984\n",
            "Epoch 27: val_accuracy did not improve from 0.99174\n",
            "143/143 [==============================] - 2s 11ms/step - loss: 0.0050 - accuracy: 0.9984 - val_loss: 0.0542 - val_accuracy: 0.9913\n",
            "Epoch 28/50\n",
            "139/143 [============================>.] - ETA: 0s - loss: 0.0053 - accuracy: 0.9984\n",
            "Epoch 28: val_accuracy improved from 0.99174 to 0.99188, saving model to model.h5\n",
            "143/143 [==============================] - 2s 11ms/step - loss: 0.0052 - accuracy: 0.9984 - val_loss: 0.0462 - val_accuracy: 0.9919\n",
            "Epoch 29/50\n",
            "138/143 [===========================>..] - ETA: 0s - loss: 0.0031 - accuracy: 0.9990\n",
            "Epoch 29: val_accuracy did not improve from 0.99188\n",
            "143/143 [==============================] - 2s 11ms/step - loss: 0.0035 - accuracy: 0.9989 - val_loss: 0.0558 - val_accuracy: 0.9910\n",
            "Epoch 30/50\n",
            "141/143 [============================>.] - ETA: 0s - loss: 0.0070 - accuracy: 0.9978\n",
            "Epoch 30: val_accuracy did not improve from 0.99188\n",
            "143/143 [==============================] - 2s 11ms/step - loss: 0.0070 - accuracy: 0.9978 - val_loss: 0.0571 - val_accuracy: 0.9908\n",
            "Epoch 31/50\n",
            "140/143 [============================>.] - ETA: 0s - loss: 0.0028 - accuracy: 0.9990\n",
            "Epoch 31: val_accuracy did not improve from 0.99188\n",
            "143/143 [==============================] - 2s 13ms/step - loss: 0.0028 - accuracy: 0.9991 - val_loss: 0.0600 - val_accuracy: 0.9913\n",
            "Epoch 32/50\n",
            "143/143 [==============================] - ETA: 0s - loss: 0.0045 - accuracy: 0.9984\n",
            "Epoch 32: val_accuracy did not improve from 0.99188\n",
            "143/143 [==============================] - 2s 11ms/step - loss: 0.0045 - accuracy: 0.9984 - val_loss: 0.0521 - val_accuracy: 0.9913\n",
            "Epoch 33/50\n",
            "139/143 [============================>.] - ETA: 0s - loss: 0.0016 - accuracy: 0.9995\n",
            "Epoch 33: val_accuracy improved from 0.99188 to 0.99202, saving model to model.h5\n",
            "143/143 [==============================] - 2s 13ms/step - loss: 0.0016 - accuracy: 0.9995 - val_loss: 0.0531 - val_accuracy: 0.9920\n",
            "Epoch 34/50\n",
            "139/143 [============================>.] - ETA: 0s - loss: 8.9089e-04 - accuracy: 0.9997\n",
            "Epoch 34: val_accuracy improved from 0.99202 to 0.99230, saving model to model.h5\n",
            "143/143 [==============================] - 2s 12ms/step - loss: 9.5249e-04 - accuracy: 0.9997 - val_loss: 0.0552 - val_accuracy: 0.9923\n",
            "Epoch 35/50\n",
            "139/143 [============================>.] - ETA: 0s - loss: 0.0056 - accuracy: 0.9985\n",
            "Epoch 35: val_accuracy did not improve from 0.99230\n",
            "143/143 [==============================] - 2s 11ms/step - loss: 0.0056 - accuracy: 0.9985 - val_loss: 0.0577 - val_accuracy: 0.9889\n",
            "Epoch 36/50\n",
            "140/143 [============================>.] - ETA: 0s - loss: 0.0032 - accuracy: 0.9989\n",
            "Epoch 36: val_accuracy did not improve from 0.99230\n",
            "143/143 [==============================] - 2s 11ms/step - loss: 0.0033 - accuracy: 0.9988 - val_loss: 0.0697 - val_accuracy: 0.9887\n",
            "Epoch 37/50\n",
            "143/143 [==============================] - ETA: 0s - loss: 0.0081 - accuracy: 0.9977\n",
            "Epoch 37: val_accuracy did not improve from 0.99230\n",
            "143/143 [==============================] - 2s 11ms/step - loss: 0.0081 - accuracy: 0.9977 - val_loss: 0.0530 - val_accuracy: 0.9910\n",
            "Epoch 38/50\n",
            "140/143 [============================>.] - ETA: 0s - loss: 0.0018 - accuracy: 0.9996\n",
            "Epoch 38: val_accuracy did not improve from 0.99230\n",
            "143/143 [==============================] - 2s 13ms/step - loss: 0.0020 - accuracy: 0.9995 - val_loss: 0.0596 - val_accuracy: 0.9923\n",
            "Epoch 39/50\n",
            "142/143 [============================>.] - ETA: 0s - loss: 0.0074 - accuracy: 0.9979\n",
            "Epoch 39: val_accuracy did not improve from 0.99230\n",
            "143/143 [==============================] - 2s 12ms/step - loss: 0.0074 - accuracy: 0.9979 - val_loss: 0.0604 - val_accuracy: 0.9885\n",
            "Epoch 40/50\n",
            "139/143 [============================>.] - ETA: 0s - loss: 0.0028 - accuracy: 0.9990\n",
            "Epoch 40: val_accuracy did not improve from 0.99230\n",
            "143/143 [==============================] - 2s 11ms/step - loss: 0.0028 - accuracy: 0.9990 - val_loss: 0.0566 - val_accuracy: 0.9922\n",
            "Epoch 41/50\n",
            "142/143 [============================>.] - ETA: 0s - loss: 0.0011 - accuracy: 0.9998\n",
            "Epoch 41: val_accuracy improved from 0.99230 to 0.99286, saving model to model.h5\n",
            "143/143 [==============================] - 2s 11ms/step - loss: 0.0011 - accuracy: 0.9998 - val_loss: 0.0539 - val_accuracy: 0.9929\n",
            "Epoch 42/50\n",
            "143/143 [==============================] - ETA: 0s - loss: 1.0837e-04 - accuracy: 1.0000\n",
            "Epoch 42: val_accuracy improved from 0.99286 to 0.99300, saving model to model.h5\n",
            "143/143 [==============================] - 2s 12ms/step - loss: 1.0837e-04 - accuracy: 1.0000 - val_loss: 0.0565 - val_accuracy: 0.9930\n",
            "Epoch 43/50\n",
            "141/143 [============================>.] - ETA: 0s - loss: 4.1345e-04 - accuracy: 0.9999\n",
            "Epoch 43: val_accuracy did not improve from 0.99300\n",
            "143/143 [==============================] - 2s 11ms/step - loss: 4.1022e-04 - accuracy: 0.9999 - val_loss: 0.0636 - val_accuracy: 0.9926\n",
            "Epoch 44/50\n",
            "138/143 [===========================>..] - ETA: 0s - loss: 1.9175e-04 - accuracy: 1.0000\n",
            "Epoch 44: val_accuracy did not improve from 0.99300\n",
            "143/143 [==============================] - 2s 11ms/step - loss: 1.8577e-04 - accuracy: 1.0000 - val_loss: 0.0744 - val_accuracy: 0.9922\n",
            "Epoch 45/50\n",
            "140/143 [============================>.] - ETA: 0s - loss: 7.9821e-04 - accuracy: 1.0000\n",
            "Epoch 45: val_accuracy did not improve from 0.99300\n",
            "143/143 [==============================] - 2s 13ms/step - loss: 7.8542e-04 - accuracy: 1.0000 - val_loss: 0.0543 - val_accuracy: 0.9919\n",
            "Epoch 46/50\n",
            "141/143 [============================>.] - ETA: 0s - loss: 0.0070 - accuracy: 0.9979\n",
            "Epoch 46: val_accuracy did not improve from 0.99300\n",
            "143/143 [==============================] - 2s 12ms/step - loss: 0.0070 - accuracy: 0.9979 - val_loss: 0.0567 - val_accuracy: 0.9891\n",
            "Epoch 47/50\n",
            "138/143 [===========================>..] - ETA: 0s - loss: 0.0083 - accuracy: 0.9973\n",
            "Epoch 47: val_accuracy did not improve from 0.99300\n",
            "143/143 [==============================] - 2s 11ms/step - loss: 0.0082 - accuracy: 0.9972 - val_loss: 0.0485 - val_accuracy: 0.9908\n",
            "Epoch 48/50\n",
            "139/143 [============================>.] - ETA: 0s - loss: 0.0031 - accuracy: 0.9987\n",
            "Epoch 48: val_accuracy did not improve from 0.99300\n",
            "143/143 [==============================] - 2s 11ms/step - loss: 0.0032 - accuracy: 0.9987 - val_loss: 0.0503 - val_accuracy: 0.9929\n",
            "Epoch 49/50\n",
            "143/143 [==============================] - ETA: 0s - loss: 0.0057 - accuracy: 0.9980\n",
            "Epoch 49: val_accuracy did not improve from 0.99300\n",
            "143/143 [==============================] - 2s 11ms/step - loss: 0.0057 - accuracy: 0.9980 - val_loss: 0.0646 - val_accuracy: 0.9894\n",
            "Epoch 50/50\n",
            "140/143 [============================>.] - ETA: 0s - loss: 0.0042 - accuracy: 0.9986\n",
            "Epoch 50: val_accuracy did not improve from 0.99300\n",
            "143/143 [==============================] - 2s 11ms/step - loss: 0.0042 - accuracy: 0.9986 - val_loss: 0.0458 - val_accuracy: 0.9926\n"
          ]
        }
      ]
    },
    {
      "cell_type": "code",
      "metadata": {
        "id": "RvIJl2xDdl5R",
        "colab": {
          "base_uri": "https://localhost:8080/"
        },
        "outputId": "8f4f966d-abd6-4455-866a-caf18c5e810f"
      },
      "source": [
        "model.evaluate(x_test, y_test, verbose=1)"
      ],
      "execution_count": 23,
      "outputs": [
        {
          "output_type": "stream",
          "name": "stdout",
          "text": [
            "197/197 [==============================] - 1s 5ms/step - loss: 0.0505 - accuracy: 0.9884\n"
          ]
        },
        {
          "output_type": "execute_result",
          "data": {
            "text/plain": [
              "[0.0505409762263298, 0.9884126782417297]"
            ]
          },
          "metadata": {},
          "execution_count": 23
        }
      ]
    },
    {
      "cell_type": "markdown",
      "source": [
        "Как видно, на тестовых данных точность ~98%"
      ],
      "metadata": {
        "id": "VuQGY92iReqD"
      }
    },
    {
      "cell_type": "markdown",
      "source": [
        "# Визуализация данных"
      ],
      "metadata": {
        "id": "nJJSFSNnRrMc"
      }
    },
    {
      "cell_type": "code",
      "metadata": {
        "id": "8EuIuK6krxFj",
        "colab": {
          "base_uri": "https://localhost:8080/",
          "height": 449
        },
        "outputId": "601d7ad1-53c2-4aee-d577-875a6a639c73"
      },
      "source": [
        "plt.plot(history.history['accuracy'], label='accuracy')\n",
        "plt.plot(history.history['val_accuracy'], label='val_accuracy')\n",
        "\n",
        "plt.xlabel('Epoch')\n",
        "plt.ylabel('Percentage of correct responses')\n",
        "plt.legend()\n",
        "plt.show()"
      ],
      "execution_count": 24,
      "outputs": [
        {
          "output_type": "display_data",
          "data": {
            "text/plain": [
              "<Figure size 640x480 with 1 Axes>"
            ],
            "image/png": "[encoded data removed]"
          },
          "metadata": {}
        }
      ]
    },
    {
      "cell_type": "markdown",
      "source": [
        "Видим, что тестирование на проверочной выборке показывает результаты хуже, чем на тренировочной"
      ],
      "metadata": {
        "id": "CWEbaGM7SM3V"
      }
    },
    {
      "cell_type": "markdown",
      "source": [
        "Попробуем предсказать значения тестового датасета"
      ],
      "metadata": {
        "id": "Qn-zMuKkShfi"
      }
    },
    {
      "cell_type": "code",
      "metadata": {
        "id": "9vEnoMIAdtZu",
        "colab": {
          "base_uri": "https://localhost:8080/"
        },
        "outputId": "d6c83eaa-1a94-4bc3-92b9-48a336e1f184"
      },
      "source": [
        "y_pred = model.predict(x_test1)\n",
        "result=np.argmax(y_pred,axis=1)\n",
        "submissions=pd.DataFrame({\"ImageId\": list(range(1,len(result)+1)), \"Label\": result})\n",
        "submissions.to_csv(\"predictions_mnist.csv\", index=False, header=True)"
      ],
      "execution_count": 29,
      "outputs": [
        {
          "output_type": "stream",
          "name": "stdout",
          "text": [
            "875/875 [==============================] - 2s 2ms/step\n"
          ]
        }
      ]
    },
    {
      "cell_type": "code",
      "metadata": {
        "id": "wZQ5F_HMeKlh",
        "colab": {
          "base_uri": "https://localhost:8080/",
          "height": 452
        },
        "outputId": "3efdc8b8-f971-442e-cb53-7d7d0e0d9f78"
      },
      "source": [
        "for i in range(9):\n",
        "    plt.subplot(3, 3, (i + 1))\n",
        "    plt.imshow(x_test1[i][:,:,0], cmap=plt.get_cmap('gray'))\n",
        "    plt.title(result[i])"
      ],
      "execution_count": 31,
      "outputs": [
        {
          "output_type": "display_data",
          "data": {
            "text/plain": [
              "<Figure size 640x480 with 9 Axes>"
            ],
            "image/png": "[encoded data removed]"
          },
          "metadata": {}
        }
      ]
    },
    {
      "cell_type": "markdown",
      "source": [
        "Из 9-ти результатов модель дает довольно точные результаты, но не все, и модель можно улучшить\n"
      ],
      "metadata": {
        "id": "2pwoj6AwSmc7"
      }
    }
  ]
}