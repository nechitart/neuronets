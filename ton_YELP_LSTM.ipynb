{
  "nbformat": 4,
  "nbformat_minor": 0,
  "metadata": {
    "colab": {
      "provenance": []
    },
    "kernelspec": {
      "name": "python3",
      "display_name": "Python 3"
    }
  },
  "cells": [
    {
      "cell_type": "markdown",
      "source": [
        "В данном проекте происходит тренировка модели для определения тональности оставленного отзыва"
      ],
      "metadata": {
        "id": "v129zIJoXr0l"
      }
    },
    {
      "cell_type": "code",
      "metadata": {
        "id": "lBhbyCZMLxMo"
      },
      "source": [
        "from tensorflow.keras.models import Sequential\n",
        "from tensorflow.keras.layers import Dense, Embedding, GRU, LSTM\n",
        "from tensorflow.keras import utils\n",
        "from tensorflow.keras.preprocessing.sequence import pad_sequences\n",
        "from tensorflow.keras.preprocessing.text import Tokenizer\n",
        "from tensorflow.keras.callbacks import ModelCheckpoint\n",
        "import pandas as pd\n",
        "import numpy as np"
      ],
      "execution_count": 1,
      "outputs": []
    },
    {
      "cell_type": "code",
      "metadata": {
        "id": "wBdk0g3ANDSF"
      },
      "source": [
        "num_words = 10000\n",
        "max_review_len = 200"
      ],
      "execution_count": 2,
      "outputs": []
    },
    {
      "cell_type": "code",
      "metadata": {
        "id": "RfuN9JmYNM3x",
        "colab": {
          "base_uri": "https://localhost:8080/"
        },
        "outputId": "6ac687b5-3942-4841-c271-a9c22097015a"
      },
      "source": [
        "# загрузка набора данных\n",
        "!wget https://www.dropbox.com/s/ufbhk3kadtnn6h0/yelp_review_polarity_csv.tgz?dl=1 -O yelp_review_polarity_csv.tgz\n",
        "# распаковка архива\n",
        "!tar -xvf yelp_review_polarity_csv.tgz"
      ],
      "execution_count": 3,
      "outputs": [
        {
          "output_type": "stream",
          "name": "stdout",
          "text": [
            "--2023-10-26 19:06:34--  https://www.dropbox.com/s/ufbhk3kadtnn6h0/yelp_review_polarity_csv.tgz?dl=1\n",
            "Resolving www.dropbox.com (www.dropbox.com)... 162.125.3.18, 2620:100:6018:18::a27d:312\n",
            "Connecting to www.dropbox.com (www.dropbox.com)|162.125.3.18|:443... connected.\n",
            "HTTP request sent, awaiting response... 302 Found\n",
            "Location: /s/dl/ufbhk3kadtnn6h0/yelp_review_polarity_csv.tgz [following]\n",
            "--2023-10-26 19:06:34--  https://www.dropbox.com/s/dl/ufbhk3kadtnn6h0/yelp_review_polarity_csv.tgz\n",
            "Reusing existing connection to www.dropbox.com:443.\n",
            "HTTP request sent, awaiting response... 302 Found\n",
            "Location: https://uce105238b319b4594b95a414e21.dl.dropboxusercontent.com/cd/0/get/CGWn1Epcn8InUyngIgZmwH9UgGUC-RoqQ_h8n6-6bfSPzzkNg3411K0W8ybJwf1pjrl27fI_m4-xGOhCcbzEggt1_8Y2BIdO3pRXdEThpvbPzdV_4aGRAayHuI31_FaqX_0skPe7Kkc5V9InFt74wlzn/file?dl=1# [following]\n",
            "--2023-10-26 19:06:34--  https://uce105238b319b4594b95a414e21.dl.dropboxusercontent.com/cd/0/get/CGWn1Epcn8InUyngIgZmwH9UgGUC-RoqQ_h8n6-6bfSPzzkNg3411K0W8ybJwf1pjrl27fI_m4-xGOhCcbzEggt1_8Y2BIdO3pRXdEThpvbPzdV_4aGRAayHuI31_FaqX_0skPe7Kkc5V9InFt74wlzn/file?dl=1\n",
            "Resolving uce105238b319b4594b95a414e21.dl.dropboxusercontent.com (uce105238b319b4594b95a414e21.dl.dropboxusercontent.com)... 162.125.3.15, 2620:100:6018:15::a27d:30f\n",
            "Connecting to uce105238b319b4594b95a414e21.dl.dropboxusercontent.com (uce105238b319b4594b95a414e21.dl.dropboxusercontent.com)|162.125.3.15|:443... connected.\n",
            "HTTP request sent, awaiting response... 200 OK\n",
            "Length: 166373201 (159M) [application/binary]\n",
            "Saving to: ‘yelp_review_polarity_csv.tgz’\n",
            "\n",
            "yelp_review_polarit 100%[===================>] 158.67M   107MB/s    in 1.5s    \n",
            "\n",
            "2023-10-26 19:06:36 (107 MB/s) - ‘yelp_review_polarity_csv.tgz’ saved [166373201/166373201]\n",
            "\n",
            "yelp_review_polarity_csv/\n",
            "yelp_review_polarity_csv/train.csv\n",
            "yelp_review_polarity_csv/readme.txt\n",
            "yelp_review_polarity_csv/test.csv\n"
          ]
        }
      ]
    },
    {
      "cell_type": "code",
      "metadata": {
        "id": "P0fZ4XN_NbHz"
      },
      "source": [
        "train = pd.read_csv(\n",
        "    'yelp_review_polarity_csv/train.csv',\n",
        "    header=None,\n",
        "    names=['Class', 'Review']\n",
        ")"
      ],
      "execution_count": 4,
      "outputs": []
    },
    {
      "cell_type": "code",
      "metadata": {
        "id": "X5ui5-DxOfeR"
      },
      "source": [
        "reviews = train['Review']\n",
        "y_train = train['Class'] - 1"
      ],
      "execution_count": 5,
      "outputs": []
    },
    {
      "cell_type": "code",
      "metadata": {
        "id": "sbtoelLOeXrC"
      },
      "source": [
        "tokenizer = Tokenizer(num_words=num_words)\n",
        "tokenizer.fit_on_texts(reviews)"
      ],
      "execution_count": 6,
      "outputs": []
    },
    {
      "cell_type": "code",
      "metadata": {
        "id": "auCO1d6vfyPV"
      },
      "source": [
        "sequences = tokenizer.texts_to_sequences(reviews)"
      ],
      "execution_count": 7,
      "outputs": []
    },
    {
      "cell_type": "code",
      "metadata": {
        "id": "6Er4-Iv1gymL"
      },
      "source": [
        "x_train = pad_sequences(sequences, maxlen=max_review_len)"
      ],
      "execution_count": 8,
      "outputs": []
    },
    {
      "cell_type": "markdown",
      "source": [
        "Модель строится на базе LSTM слоя с 16 нейронами"
      ],
      "metadata": {
        "id": "RarsXcAaX97C"
      }
    },
    {
      "cell_type": "code",
      "metadata": {
        "id": "nI_DurIfg9to"
      },
      "source": [
        "model = Sequential()\n",
        "model.add(Embedding(num_words, 32, input_length=max_review_len))\n",
        "model.add(LSTM(16))\n",
        "model.add(Dense(1, activation='sigmoid'))"
      ],
      "execution_count": 9,
      "outputs": []
    },
    {
      "cell_type": "code",
      "metadata": {
        "id": "bPJoOlO-haIV"
      },
      "source": [
        "model.compile(\n",
        "    optimizer='adam',\n",
        "    loss='binary_crossentropy',\n",
        "    metrics=['accuracy']\n",
        ")"
      ],
      "execution_count": 10,
      "outputs": []
    },
    {
      "cell_type": "code",
      "metadata": {
        "id": "1Tq-pFwqnCRr"
      },
      "source": [
        "model_save_path = 'best_model.h5'\n",
        "checkpoint_callback = ModelCheckpoint(\n",
        "    model_save_path,\n",
        "    monitor='val_accuracy',\n",
        "    save_best_only=True,\n",
        "    verbose=1\n",
        ")"
      ],
      "execution_count": 11,
      "outputs": []
    },
    {
      "cell_type": "code",
      "metadata": {
        "id": "FPPSlEUalF_6",
        "colab": {
          "base_uri": "https://localhost:8080/"
        },
        "outputId": "485b8167-6619-4981-b577-df6eb9d351c7"
      },
      "source": [
        "model.fit(\n",
        "    x_train,\n",
        "    y_train,\n",
        "    epochs=5,\n",
        "    batch_size=128,\n",
        "    validation_split=0.1,\n",
        "    callbacks=[checkpoint_callback]\n",
        ")"
      ],
      "execution_count": 12,
      "outputs": [
        {
          "output_type": "stream",
          "name": "stdout",
          "text": [
            "Epoch 1/5\n",
            "3938/3938 [==============================] - ETA: 0s - loss: 0.2084 - accuracy: 0.9183\n",
            "Epoch 1: val_accuracy improved from -inf to 0.95146, saving model to best_model.h5\n",
            "3938/3938 [==============================] - 276s 70ms/step - loss: 0.2084 - accuracy: 0.9183 - val_loss: 0.1328 - val_accuracy: 0.9515\n",
            "Epoch 2/5\n",
            "   2/3938 [..............................] - ETA: 4:33 - loss: 0.1429 - accuracy: 0.9375"
          ]
        },
        {
          "output_type": "stream",
          "name": "stderr",
          "text": [
            "/usr/local/lib/python3.10/dist-packages/keras/src/engine/training.py:3079: UserWarning: You are saving your model as an HDF5 file via `model.save()`. This file format is considered legacy. We recommend using instead the native Keras format, e.g. `model.save('my_model.keras')`.\n",
            "  saving_api.save_model(\n"
          ]
        },
        {
          "output_type": "stream",
          "name": "stdout",
          "text": [
            "3937/3938 [============================>.] - ETA: 0s - loss: 0.1370 - accuracy: 0.9483\n",
            "Epoch 2: val_accuracy improved from 0.95146 to 0.95830, saving model to best_model.h5\n",
            "3938/3938 [==============================] - 271s 69ms/step - loss: 0.1370 - accuracy: 0.9483 - val_loss: 0.1084 - val_accuracy: 0.9583\n",
            "Epoch 3/5\n",
            "3938/3938 [==============================] - ETA: 0s - loss: 0.1148 - accuracy: 0.9568\n",
            "Epoch 3: val_accuracy did not improve from 0.95830\n",
            "3938/3938 [==============================] - 270s 69ms/step - loss: 0.1148 - accuracy: 0.9568 - val_loss: 0.1106 - val_accuracy: 0.9573\n",
            "Epoch 4/5\n",
            "3938/3938 [==============================] - ETA: 0s - loss: 0.1001 - accuracy: 0.9630\n",
            "Epoch 4: val_accuracy improved from 0.95830 to 0.96086, saving model to best_model.h5\n",
            "3938/3938 [==============================] - 271s 69ms/step - loss: 0.1001 - accuracy: 0.9630 - val_loss: 0.1051 - val_accuracy: 0.9609\n",
            "Epoch 5/5\n",
            "3938/3938 [==============================] - ETA: 0s - loss: 0.0880 - accuracy: 0.9679\n",
            "Epoch 5: val_accuracy did not improve from 0.96086\n",
            "3938/3938 [==============================] - 270s 69ms/step - loss: 0.0880 - accuracy: 0.9679 - val_loss: 0.1067 - val_accuracy: 0.9600\n"
          ]
        },
        {
          "output_type": "execute_result",
          "data": {
            "text/plain": [
              "<keras.src.callbacks.History at 0x7ed287ccb400>"
            ]
          },
          "metadata": {},
          "execution_count": 12
        }
      ]
    },
    {
      "cell_type": "code",
      "metadata": {
        "id": "IGJUEgtulTGO"
      },
      "source": [
        "test = pd.read_csv(\n",
        "    'yelp_review_polarity_csv/test.csv',\n",
        "    header=None,\n",
        "    names=['Class', 'Review']\n",
        ")"
      ],
      "execution_count": 13,
      "outputs": []
    },
    {
      "cell_type": "code",
      "metadata": {
        "id": "WATdeLJcvszP"
      },
      "source": [
        "x_test = pad_sequences(tokenizer.texts_to_sequences(test['Review']), maxlen=max_review_len)\n",
        "y_test = test['Class'] - 1"
      ],
      "execution_count": 14,
      "outputs": []
    },
    {
      "cell_type": "code",
      "metadata": {
        "id": "pR6apAWOwMYg"
      },
      "source": [
        "model.load_weights(model_save_path)"
      ],
      "execution_count": 15,
      "outputs": []
    },
    {
      "cell_type": "code",
      "metadata": {
        "id": "b8ihUco4wXjA",
        "colab": {
          "base_uri": "https://localhost:8080/"
        },
        "outputId": "3e094fc3-f882-4e78-8233-9c144bf1353e"
      },
      "source": [
        "model.evaluate(x_test, y_test, verbose=1)"
      ],
      "execution_count": 16,
      "outputs": [
        {
          "output_type": "stream",
          "name": "stdout",
          "text": [
            "1188/1188 [==============================] - 14s 12ms/step - loss: 0.1290 - accuracy: 0.9514\n"
          ]
        },
        {
          "output_type": "execute_result",
          "data": {
            "text/plain": [
              "[0.12904097139835358, 0.9513947367668152]"
            ]
          },
          "metadata": {},
          "execution_count": 16
        }
      ]
    },
    {
      "cell_type": "markdown",
      "source": [
        "Точность модели составила ~95%"
      ],
      "metadata": {
        "id": "NoapujqTYSMi"
      }
    }
  ]
}